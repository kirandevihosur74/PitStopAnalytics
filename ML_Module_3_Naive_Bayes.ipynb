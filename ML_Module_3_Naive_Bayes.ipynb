{
 "cells": [
  {
   "cell_type": "markdown",
   "id": "bf051f14-e0bd-4012-ab8d-86b626ba26fd",
   "metadata": {},
   "source": [
    "# Naive Bayes Classifier Model"
   ]
  },
  {
   "cell_type": "code",
   "execution_count": 56,
   "id": "f8d9e7e2-5d74-4d2c-a8cf-47cb7c33a630",
   "metadata": {},
   "outputs": [],
   "source": [
    "# Importing all necessary libraries\n",
    "import pandas as pd\n",
    "from sklearn.preprocessing import Binarizer\n",
    "from sklearn.model_selection import train_test_split\n",
    "from sklearn.naive_bayes import GaussianNB, MultinomialNB, BernoulliNB\n",
    "from sklearn.metrics import accuracy_score, confusion_matrix, classification_report\n",
    "from sklearn import tree \n",
    "import matplotlib.pyplot as plt\n",
    "import seaborn as sns"
   ]
  },
  {
   "cell_type": "code",
   "execution_count": 57,
   "id": "16e94746-cc77-4fc1-a91b-8c4871cfcb21",
   "metadata": {},
   "outputs": [],
   "source": [
    "# Loading the dataset\n",
    "new_df = pd.read_csv(\"final_df4.csv\")"
   ]
  },
  {
   "cell_type": "code",
   "execution_count": 58,
   "id": "ebd288e6-82e2-49c7-93ff-72e9c442435e",
   "metadata": {},
   "outputs": [
    {
     "data": {
      "text/html": [
       "<div>\n",
       "<style scoped>\n",
       "    .dataframe tbody tr th:only-of-type {\n",
       "        vertical-align: middle;\n",
       "    }\n",
       "\n",
       "    .dataframe tbody tr th {\n",
       "        vertical-align: top;\n",
       "    }\n",
       "\n",
       "    .dataframe thead th {\n",
       "        text-align: right;\n",
       "    }\n",
       "</style>\n",
       "<table border=\"1\" class=\"dataframe\">\n",
       "  <thead>\n",
       "    <tr style=\"text-align: right;\">\n",
       "      <th></th>\n",
       "      <th>driver_number</th>\n",
       "      <th>position</th>\n",
       "      <th>points</th>\n",
       "      <th>grid</th>\n",
       "      <th>laps</th>\n",
       "      <th>status</th>\n",
       "      <th>driver_id</th>\n",
       "      <th>constructor_id</th>\n",
       "      <th>fastest_lap_rank</th>\n",
       "      <th>fastest_lap</th>\n",
       "      <th>fastest_lap_time</th>\n",
       "      <th>fastest_lap_speed</th>\n",
       "      <th>raceName</th>\n",
       "      <th>date</th>\n",
       "      <th>season</th>\n",
       "      <th>driverId</th>\n",
       "      <th>dateOfBirth</th>\n",
       "      <th>nationality</th>\n",
       "      <th>driverFullName</th>\n",
       "    </tr>\n",
       "  </thead>\n",
       "  <tbody>\n",
       "    <tr>\n",
       "      <th>0</th>\n",
       "      <td>3</td>\n",
       "      <td>1</td>\n",
       "      <td>10.0</td>\n",
       "      <td>3</td>\n",
       "      <td>58</td>\n",
       "      <td>Finished</td>\n",
       "      <td>michael_schumacher</td>\n",
       "      <td>ferrari</td>\n",
       "      <td>1</td>\n",
       "      <td>1</td>\n",
       "      <td>1</td>\n",
       "      <td>1</td>\n",
       "      <td>Australian Grand Prix</td>\n",
       "      <td>2000-03-12</td>\n",
       "      <td>2000</td>\n",
       "      <td>michael_schumacher</td>\n",
       "      <td>1969-01-03</td>\n",
       "      <td>German</td>\n",
       "      <td>Michael Schumacher</td>\n",
       "    </tr>\n",
       "    <tr>\n",
       "      <th>1</th>\n",
       "      <td>4</td>\n",
       "      <td>2</td>\n",
       "      <td>6.0</td>\n",
       "      <td>4</td>\n",
       "      <td>58</td>\n",
       "      <td>Finished</td>\n",
       "      <td>barrichello</td>\n",
       "      <td>ferrari</td>\n",
       "      <td>1</td>\n",
       "      <td>1</td>\n",
       "      <td>1</td>\n",
       "      <td>1</td>\n",
       "      <td>Australian Grand Prix</td>\n",
       "      <td>2000-03-12</td>\n",
       "      <td>2000</td>\n",
       "      <td>barrichello</td>\n",
       "      <td>1972-05-23</td>\n",
       "      <td>Brazilian</td>\n",
       "      <td>Rubens Barrichello</td>\n",
       "    </tr>\n",
       "    <tr>\n",
       "      <th>2</th>\n",
       "      <td>9</td>\n",
       "      <td>3</td>\n",
       "      <td>4.0</td>\n",
       "      <td>11</td>\n",
       "      <td>58</td>\n",
       "      <td>Finished</td>\n",
       "      <td>ralf_schumacher</td>\n",
       "      <td>williams</td>\n",
       "      <td>1</td>\n",
       "      <td>1</td>\n",
       "      <td>1</td>\n",
       "      <td>1</td>\n",
       "      <td>Australian Grand Prix</td>\n",
       "      <td>2000-03-12</td>\n",
       "      <td>2000</td>\n",
       "      <td>ralf_schumacher</td>\n",
       "      <td>1975-06-30</td>\n",
       "      <td>German</td>\n",
       "      <td>Ralf Schumacher</td>\n",
       "    </tr>\n",
       "    <tr>\n",
       "      <th>3</th>\n",
       "      <td>22</td>\n",
       "      <td>4</td>\n",
       "      <td>3.0</td>\n",
       "      <td>8</td>\n",
       "      <td>58</td>\n",
       "      <td>Finished</td>\n",
       "      <td>villeneuve</td>\n",
       "      <td>bar</td>\n",
       "      <td>1</td>\n",
       "      <td>1</td>\n",
       "      <td>1</td>\n",
       "      <td>1</td>\n",
       "      <td>Australian Grand Prix</td>\n",
       "      <td>2000-03-12</td>\n",
       "      <td>2000</td>\n",
       "      <td>villeneuve</td>\n",
       "      <td>1971-04-09</td>\n",
       "      <td>Canadian</td>\n",
       "      <td>Jacques Villeneuve</td>\n",
       "    </tr>\n",
       "    <tr>\n",
       "      <th>4</th>\n",
       "      <td>11</td>\n",
       "      <td>5</td>\n",
       "      <td>2.0</td>\n",
       "      <td>9</td>\n",
       "      <td>58</td>\n",
       "      <td>Finished</td>\n",
       "      <td>fisichella</td>\n",
       "      <td>benetton</td>\n",
       "      <td>1</td>\n",
       "      <td>1</td>\n",
       "      <td>1</td>\n",
       "      <td>1</td>\n",
       "      <td>Australian Grand Prix</td>\n",
       "      <td>2000-03-12</td>\n",
       "      <td>2000</td>\n",
       "      <td>fisichella</td>\n",
       "      <td>1973-01-14</td>\n",
       "      <td>Italian</td>\n",
       "      <td>Giancarlo Fisichella</td>\n",
       "    </tr>\n",
       "  </tbody>\n",
       "</table>\n",
       "</div>"
      ],
      "text/plain": [
       "   driver_number  position  points  grid  laps    status           driver_id  \\\n",
       "0              3         1    10.0     3    58  Finished  michael_schumacher   \n",
       "1              4         2     6.0     4    58  Finished         barrichello   \n",
       "2              9         3     4.0    11    58  Finished     ralf_schumacher   \n",
       "3             22         4     3.0     8    58  Finished          villeneuve   \n",
       "4             11         5     2.0     9    58  Finished          fisichella   \n",
       "\n",
       "  constructor_id  fastest_lap_rank  fastest_lap  fastest_lap_time  \\\n",
       "0        ferrari                 1            1                 1   \n",
       "1        ferrari                 1            1                 1   \n",
       "2       williams                 1            1                 1   \n",
       "3            bar                 1            1                 1   \n",
       "4       benetton                 1            1                 1   \n",
       "\n",
       "   fastest_lap_speed               raceName        date  season  \\\n",
       "0                  1  Australian Grand Prix  2000-03-12    2000   \n",
       "1                  1  Australian Grand Prix  2000-03-12    2000   \n",
       "2                  1  Australian Grand Prix  2000-03-12    2000   \n",
       "3                  1  Australian Grand Prix  2000-03-12    2000   \n",
       "4                  1  Australian Grand Prix  2000-03-12    2000   \n",
       "\n",
       "             driverId dateOfBirth nationality        driverFullName  \n",
       "0  michael_schumacher  1969-01-03      German    Michael Schumacher  \n",
       "1         barrichello  1972-05-23   Brazilian    Rubens Barrichello  \n",
       "2     ralf_schumacher  1975-06-30      German       Ralf Schumacher  \n",
       "3          villeneuve  1971-04-09    Canadian    Jacques Villeneuve  \n",
       "4          fisichella  1973-01-14     Italian  Giancarlo Fisichella  "
      ]
     },
     "execution_count": 58,
     "metadata": {},
     "output_type": "execute_result"
    }
   ],
   "source": [
    "new_df.head()"
   ]
  },
  {
   "cell_type": "code",
   "execution_count": 59,
   "id": "cf66cc49-7e94-401b-b315-64c3966131cb",
   "metadata": {},
   "outputs": [
    {
     "data": {
      "text/plain": [
       "driver_number        0\n",
       "position             0\n",
       "points               0\n",
       "grid                 0\n",
       "laps                 0\n",
       "status               0\n",
       "driver_id            0\n",
       "constructor_id       0\n",
       "fastest_lap_rank     0\n",
       "fastest_lap          0\n",
       "fastest_lap_time     0\n",
       "fastest_lap_speed    0\n",
       "raceName             0\n",
       "date                 0\n",
       "season               0\n",
       "driverId             0\n",
       "dateOfBirth          0\n",
       "nationality          0\n",
       "driverFullName       0\n",
       "dtype: int64"
      ]
     },
     "execution_count": 59,
     "metadata": {},
     "output_type": "execute_result"
    }
   ],
   "source": [
    "new_df.isnull().sum()"
   ]
  },
  {
   "cell_type": "code",
   "execution_count": 60,
   "id": "f8d41e01-8b18-4f48-9e61-98278ed53eca",
   "metadata": {},
   "outputs": [],
   "source": [
    "# Aggregate season data for each driver\n",
    "season_summary = new_df.groupby(['season', 'driver_id']).agg(\n",
    "    total_points=pd.NamedAgg(column='points', aggfunc='sum'),\n",
    "    total_wins=pd.NamedAgg(column='position', aggfunc=lambda x: (x==1).sum()),  # Count wins\n",
    "    total_podiums=pd.NamedAgg(column='position', aggfunc=lambda x: (x<=3).sum()),  # Count podiums\n",
    "    average_finish_position=pd.NamedAgg(column='position', aggfunc='mean'),\n",
    "    races_participated=pd.NamedAgg(column='raceName', aggfunc='count')  # Count races participated\n",
    ").reset_index()\n",
    "\n",
    "# Determine the driver with the highest points in each season as the champion\n",
    "season_summary['is_champion'] = season_summary.sort_values(['season', 'total_points'], ascending=[True, False]).groupby(['season']).cumcount() == 0\n",
    "\n",
    "# Convert boolean 'is_champion' to binary format: 1 for champions, 0 for others\n",
    "season_summary['is_champion'] = season_summary['is_champion'].astype(int)"
   ]
  },
  {
   "cell_type": "code",
   "execution_count": 61,
   "id": "6fdbf293-af37-4f5e-ba0c-0aa0f26bbc27",
   "metadata": {},
   "outputs": [
    {
     "data": {
      "text/html": [
       "<div>\n",
       "<style scoped>\n",
       "    .dataframe tbody tr th:only-of-type {\n",
       "        vertical-align: middle;\n",
       "    }\n",
       "\n",
       "    .dataframe tbody tr th {\n",
       "        vertical-align: top;\n",
       "    }\n",
       "\n",
       "    .dataframe thead th {\n",
       "        text-align: right;\n",
       "    }\n",
       "</style>\n",
       "<table border=\"1\" class=\"dataframe\">\n",
       "  <thead>\n",
       "    <tr style=\"text-align: right;\">\n",
       "      <th></th>\n",
       "      <th>season</th>\n",
       "      <th>driver_id</th>\n",
       "      <th>total_points</th>\n",
       "      <th>total_wins</th>\n",
       "      <th>total_podiums</th>\n",
       "      <th>average_finish_position</th>\n",
       "      <th>races_participated</th>\n",
       "      <th>is_champion</th>\n",
       "    </tr>\n",
       "  </thead>\n",
       "  <tbody>\n",
       "    <tr>\n",
       "      <th>14</th>\n",
       "      <td>2000</td>\n",
       "      <td>michael_schumacher</td>\n",
       "      <td>108.0</td>\n",
       "      <td>9</td>\n",
       "      <td>12</td>\n",
       "      <td>5.294118</td>\n",
       "      <td>17</td>\n",
       "      <td>1</td>\n",
       "    </tr>\n",
       "    <tr>\n",
       "      <th>38</th>\n",
       "      <td>2001</td>\n",
       "      <td>michael_schumacher</td>\n",
       "      <td>123.0</td>\n",
       "      <td>9</td>\n",
       "      <td>14</td>\n",
       "      <td>3.352941</td>\n",
       "      <td>17</td>\n",
       "      <td>1</td>\n",
       "    </tr>\n",
       "    <tr>\n",
       "      <th>60</th>\n",
       "      <td>2002</td>\n",
       "      <td>michael_schumacher</td>\n",
       "      <td>144.0</td>\n",
       "      <td>11</td>\n",
       "      <td>17</td>\n",
       "      <td>1.411765</td>\n",
       "      <td>17</td>\n",
       "      <td>1</td>\n",
       "    </tr>\n",
       "    <tr>\n",
       "      <th>84</th>\n",
       "      <td>2003</td>\n",
       "      <td>michael_schumacher</td>\n",
       "      <td>93.0</td>\n",
       "      <td>6</td>\n",
       "      <td>8</td>\n",
       "      <td>4.250000</td>\n",
       "      <td>16</td>\n",
       "      <td>1</td>\n",
       "    </tr>\n",
       "    <tr>\n",
       "      <th>109</th>\n",
       "      <td>2004</td>\n",
       "      <td>michael_schumacher</td>\n",
       "      <td>148.0</td>\n",
       "      <td>13</td>\n",
       "      <td>15</td>\n",
       "      <td>2.611111</td>\n",
       "      <td>18</td>\n",
       "      <td>1</td>\n",
       "    </tr>\n",
       "    <tr>\n",
       "      <th>122</th>\n",
       "      <td>2005</td>\n",
       "      <td>alonso</td>\n",
       "      <td>133.0</td>\n",
       "      <td>7</td>\n",
       "      <td>15</td>\n",
       "      <td>3.631579</td>\n",
       "      <td>19</td>\n",
       "      <td>1</td>\n",
       "    </tr>\n",
       "    <tr>\n",
       "      <th>149</th>\n",
       "      <td>2006</td>\n",
       "      <td>alonso</td>\n",
       "      <td>134.0</td>\n",
       "      <td>7</td>\n",
       "      <td>14</td>\n",
       "      <td>3.555556</td>\n",
       "      <td>18</td>\n",
       "      <td>1</td>\n",
       "    </tr>\n",
       "    <tr>\n",
       "      <th>190</th>\n",
       "      <td>2007</td>\n",
       "      <td>raikkonen</td>\n",
       "      <td>110.0</td>\n",
       "      <td>6</td>\n",
       "      <td>12</td>\n",
       "      <td>4.235294</td>\n",
       "      <td>17</td>\n",
       "      <td>1</td>\n",
       "    </tr>\n",
       "    <tr>\n",
       "      <th>209</th>\n",
       "      <td>2008</td>\n",
       "      <td>hamilton</td>\n",
       "      <td>98.0</td>\n",
       "      <td>5</td>\n",
       "      <td>10</td>\n",
       "      <td>5.222222</td>\n",
       "      <td>18</td>\n",
       "      <td>1</td>\n",
       "    </tr>\n",
       "    <tr>\n",
       "      <th>229</th>\n",
       "      <td>2009</td>\n",
       "      <td>button</td>\n",
       "      <td>95.0</td>\n",
       "      <td>6</td>\n",
       "      <td>9</td>\n",
       "      <td>4.352941</td>\n",
       "      <td>17</td>\n",
       "      <td>1</td>\n",
       "    </tr>\n",
       "    <tr>\n",
       "      <th>272</th>\n",
       "      <td>2010</td>\n",
       "      <td>vettel</td>\n",
       "      <td>256.0</td>\n",
       "      <td>5</td>\n",
       "      <td>10</td>\n",
       "      <td>6.000000</td>\n",
       "      <td>19</td>\n",
       "      <td>1</td>\n",
       "    </tr>\n",
       "    <tr>\n",
       "      <th>301</th>\n",
       "      <td>2011</td>\n",
       "      <td>vettel</td>\n",
       "      <td>392.0</td>\n",
       "      <td>11</td>\n",
       "      <td>17</td>\n",
       "      <td>2.736842</td>\n",
       "      <td>19</td>\n",
       "      <td>1</td>\n",
       "    </tr>\n",
       "    <tr>\n",
       "      <th>326</th>\n",
       "      <td>2012</td>\n",
       "      <td>vettel</td>\n",
       "      <td>281.0</td>\n",
       "      <td>5</td>\n",
       "      <td>10</td>\n",
       "      <td>5.250000</td>\n",
       "      <td>20</td>\n",
       "      <td>1</td>\n",
       "    </tr>\n",
       "    <tr>\n",
       "      <th>349</th>\n",
       "      <td>2013</td>\n",
       "      <td>vettel</td>\n",
       "      <td>397.0</td>\n",
       "      <td>13</td>\n",
       "      <td>16</td>\n",
       "      <td>2.631579</td>\n",
       "      <td>19</td>\n",
       "      <td>1</td>\n",
       "    </tr>\n",
       "    <tr>\n",
       "      <th>358</th>\n",
       "      <td>2014</td>\n",
       "      <td>hamilton</td>\n",
       "      <td>384.0</td>\n",
       "      <td>11</td>\n",
       "      <td>16</td>\n",
       "      <td>4.105263</td>\n",
       "      <td>19</td>\n",
       "      <td>1</td>\n",
       "    </tr>\n",
       "    <tr>\n",
       "      <th>380</th>\n",
       "      <td>2015</td>\n",
       "      <td>hamilton</td>\n",
       "      <td>381.0</td>\n",
       "      <td>10</td>\n",
       "      <td>17</td>\n",
       "      <td>2.578947</td>\n",
       "      <td>19</td>\n",
       "      <td>1</td>\n",
       "    </tr>\n",
       "    <tr>\n",
       "      <th>416</th>\n",
       "      <td>2016</td>\n",
       "      <td>rosberg</td>\n",
       "      <td>385.0</td>\n",
       "      <td>9</td>\n",
       "      <td>16</td>\n",
       "      <td>3.190476</td>\n",
       "      <td>21</td>\n",
       "      <td>1</td>\n",
       "    </tr>\n",
       "    <tr>\n",
       "      <th>429</th>\n",
       "      <td>2017</td>\n",
       "      <td>hamilton</td>\n",
       "      <td>363.0</td>\n",
       "      <td>9</td>\n",
       "      <td>13</td>\n",
       "      <td>2.700000</td>\n",
       "      <td>20</td>\n",
       "      <td>1</td>\n",
       "    </tr>\n",
       "    <tr>\n",
       "      <th>452</th>\n",
       "      <td>2018</td>\n",
       "      <td>hamilton</td>\n",
       "      <td>408.0</td>\n",
       "      <td>11</td>\n",
       "      <td>17</td>\n",
       "      <td>2.619048</td>\n",
       "      <td>21</td>\n",
       "      <td>1</td>\n",
       "    </tr>\n",
       "    <tr>\n",
       "      <th>471</th>\n",
       "      <td>2019</td>\n",
       "      <td>hamilton</td>\n",
       "      <td>413.0</td>\n",
       "      <td>11</td>\n",
       "      <td>17</td>\n",
       "      <td>2.380952</td>\n",
       "      <td>21</td>\n",
       "      <td>1</td>\n",
       "    </tr>\n",
       "    <tr>\n",
       "      <th>492</th>\n",
       "      <td>2020</td>\n",
       "      <td>hamilton</td>\n",
       "      <td>347.0</td>\n",
       "      <td>11</td>\n",
       "      <td>14</td>\n",
       "      <td>1.875000</td>\n",
       "      <td>16</td>\n",
       "      <td>1</td>\n",
       "    </tr>\n",
       "    <tr>\n",
       "      <th>517</th>\n",
       "      <td>2021</td>\n",
       "      <td>max_verstappen</td>\n",
       "      <td>388.5</td>\n",
       "      <td>10</td>\n",
       "      <td>18</td>\n",
       "      <td>4.136364</td>\n",
       "      <td>22</td>\n",
       "      <td>1</td>\n",
       "    </tr>\n",
       "    <tr>\n",
       "      <th>540</th>\n",
       "      <td>2022</td>\n",
       "      <td>max_verstappen</td>\n",
       "      <td>433.0</td>\n",
       "      <td>15</td>\n",
       "      <td>17</td>\n",
       "      <td>3.500000</td>\n",
       "      <td>22</td>\n",
       "      <td>1</td>\n",
       "    </tr>\n",
       "    <tr>\n",
       "      <th>562</th>\n",
       "      <td>2023</td>\n",
       "      <td>max_verstappen</td>\n",
       "      <td>530.0</td>\n",
       "      <td>19</td>\n",
       "      <td>21</td>\n",
       "      <td>1.272727</td>\n",
       "      <td>22</td>\n",
       "      <td>1</td>\n",
       "    </tr>\n",
       "  </tbody>\n",
       "</table>\n",
       "</div>"
      ],
      "text/plain": [
       "     season           driver_id  total_points  total_wins  total_podiums  \\\n",
       "14     2000  michael_schumacher         108.0           9             12   \n",
       "38     2001  michael_schumacher         123.0           9             14   \n",
       "60     2002  michael_schumacher         144.0          11             17   \n",
       "84     2003  michael_schumacher          93.0           6              8   \n",
       "109    2004  michael_schumacher         148.0          13             15   \n",
       "122    2005              alonso         133.0           7             15   \n",
       "149    2006              alonso         134.0           7             14   \n",
       "190    2007           raikkonen         110.0           6             12   \n",
       "209    2008            hamilton          98.0           5             10   \n",
       "229    2009              button          95.0           6              9   \n",
       "272    2010              vettel         256.0           5             10   \n",
       "301    2011              vettel         392.0          11             17   \n",
       "326    2012              vettel         281.0           5             10   \n",
       "349    2013              vettel         397.0          13             16   \n",
       "358    2014            hamilton         384.0          11             16   \n",
       "380    2015            hamilton         381.0          10             17   \n",
       "416    2016             rosberg         385.0           9             16   \n",
       "429    2017            hamilton         363.0           9             13   \n",
       "452    2018            hamilton         408.0          11             17   \n",
       "471    2019            hamilton         413.0          11             17   \n",
       "492    2020            hamilton         347.0          11             14   \n",
       "517    2021      max_verstappen         388.5          10             18   \n",
       "540    2022      max_verstappen         433.0          15             17   \n",
       "562    2023      max_verstappen         530.0          19             21   \n",
       "\n",
       "     average_finish_position  races_participated  is_champion  \n",
       "14                  5.294118                  17            1  \n",
       "38                  3.352941                  17            1  \n",
       "60                  1.411765                  17            1  \n",
       "84                  4.250000                  16            1  \n",
       "109                 2.611111                  18            1  \n",
       "122                 3.631579                  19            1  \n",
       "149                 3.555556                  18            1  \n",
       "190                 4.235294                  17            1  \n",
       "209                 5.222222                  18            1  \n",
       "229                 4.352941                  17            1  \n",
       "272                 6.000000                  19            1  \n",
       "301                 2.736842                  19            1  \n",
       "326                 5.250000                  20            1  \n",
       "349                 2.631579                  19            1  \n",
       "358                 4.105263                  19            1  \n",
       "380                 2.578947                  19            1  \n",
       "416                 3.190476                  21            1  \n",
       "429                 2.700000                  20            1  \n",
       "452                 2.619048                  21            1  \n",
       "471                 2.380952                  21            1  \n",
       "492                 1.875000                  16            1  \n",
       "517                 4.136364                  22            1  \n",
       "540                 3.500000                  22            1  \n",
       "562                 1.272727                  22            1  "
      ]
     },
     "execution_count": 61,
     "metadata": {},
     "output_type": "execute_result"
    }
   ],
   "source": [
    "champion_rows = season_summary[season_summary['is_champion'] == 1]\n",
    "champion_rows"
   ]
  },
  {
   "cell_type": "markdown",
   "id": "2624d399-34e0-4d31-8026-fd235ff3c9c0",
   "metadata": {},
   "source": [
    "## Preparing the dataset for model training"
   ]
  },
  {
   "cell_type": "code",
   "execution_count": 62,
   "id": "63d431a1-4fcf-4e84-bea7-43f146566193",
   "metadata": {},
   "outputs": [],
   "source": [
    "X = season_summary.drop(['season', 'driver_id', 'is_champion'], axis=1)\n",
    "y = season_summary['is_champion']"
   ]
  },
  {
   "cell_type": "code",
   "execution_count": 63,
   "id": "0d8482b7-1273-47c8-a0a1-2c2cf9d8438d",
   "metadata": {},
   "outputs": [],
   "source": [
    "X_train, X_test, y_train, y_test = train_test_split(X, y, test_size=0.2, random_state=42)"
   ]
  },
  {
   "cell_type": "code",
   "execution_count": 64,
   "id": "a2e9ec98-44b3-4b81-8c3c-777e5ab2bc87",
   "metadata": {},
   "outputs": [
    {
     "data": {
      "text/plain": [
       "514    0\n",
       "70     0\n",
       "131    0\n",
       "422    0\n",
       "545    0\n",
       "      ..\n",
       "75     0\n",
       "250    0\n",
       "531    0\n",
       "509    0\n",
       "68     0\n",
       "Name: is_champion, Length: 115, dtype: int64"
      ]
     },
     "execution_count": 64,
     "metadata": {},
     "output_type": "execute_result"
    }
   ],
   "source": [
    "y_test"
   ]
  },
  {
   "cell_type": "markdown",
   "id": "cd55e811-b19d-4c8b-8ad0-beaa4216ff6f",
   "metadata": {},
   "source": [
    "### Step 1: Model Training"
   ]
  },
  {
   "cell_type": "code",
   "execution_count": 65,
   "id": "219ede15-ef5d-4edf-b769-536257ce0bda",
   "metadata": {},
   "outputs": [
    {
     "data": {
      "text/html": [
       "<style>#sk-container-id-4 {color: black;}#sk-container-id-4 pre{padding: 0;}#sk-container-id-4 div.sk-toggleable {background-color: white;}#sk-container-id-4 label.sk-toggleable__label {cursor: pointer;display: block;width: 100%;margin-bottom: 0;padding: 0.3em;box-sizing: border-box;text-align: center;}#sk-container-id-4 label.sk-toggleable__label-arrow:before {content: \"▸\";float: left;margin-right: 0.25em;color: #696969;}#sk-container-id-4 label.sk-toggleable__label-arrow:hover:before {color: black;}#sk-container-id-4 div.sk-estimator:hover label.sk-toggleable__label-arrow:before {color: black;}#sk-container-id-4 div.sk-toggleable__content {max-height: 0;max-width: 0;overflow: hidden;text-align: left;background-color: #f0f8ff;}#sk-container-id-4 div.sk-toggleable__content pre {margin: 0.2em;color: black;border-radius: 0.25em;background-color: #f0f8ff;}#sk-container-id-4 input.sk-toggleable__control:checked~div.sk-toggleable__content {max-height: 200px;max-width: 100%;overflow: auto;}#sk-container-id-4 input.sk-toggleable__control:checked~label.sk-toggleable__label-arrow:before {content: \"▾\";}#sk-container-id-4 div.sk-estimator input.sk-toggleable__control:checked~label.sk-toggleable__label {background-color: #d4ebff;}#sk-container-id-4 div.sk-label input.sk-toggleable__control:checked~label.sk-toggleable__label {background-color: #d4ebff;}#sk-container-id-4 input.sk-hidden--visually {border: 0;clip: rect(1px 1px 1px 1px);clip: rect(1px, 1px, 1px, 1px);height: 1px;margin: -1px;overflow: hidden;padding: 0;position: absolute;width: 1px;}#sk-container-id-4 div.sk-estimator {font-family: monospace;background-color: #f0f8ff;border: 1px dotted black;border-radius: 0.25em;box-sizing: border-box;margin-bottom: 0.5em;}#sk-container-id-4 div.sk-estimator:hover {background-color: #d4ebff;}#sk-container-id-4 div.sk-parallel-item::after {content: \"\";width: 100%;border-bottom: 1px solid gray;flex-grow: 1;}#sk-container-id-4 div.sk-label:hover label.sk-toggleable__label {background-color: #d4ebff;}#sk-container-id-4 div.sk-serial::before {content: \"\";position: absolute;border-left: 1px solid gray;box-sizing: border-box;top: 0;bottom: 0;left: 50%;z-index: 0;}#sk-container-id-4 div.sk-serial {display: flex;flex-direction: column;align-items: center;background-color: white;padding-right: 0.2em;padding-left: 0.2em;position: relative;}#sk-container-id-4 div.sk-item {position: relative;z-index: 1;}#sk-container-id-4 div.sk-parallel {display: flex;align-items: stretch;justify-content: center;background-color: white;position: relative;}#sk-container-id-4 div.sk-item::before, #sk-container-id-4 div.sk-parallel-item::before {content: \"\";position: absolute;border-left: 1px solid gray;box-sizing: border-box;top: 0;bottom: 0;left: 50%;z-index: -1;}#sk-container-id-4 div.sk-parallel-item {display: flex;flex-direction: column;z-index: 1;position: relative;background-color: white;}#sk-container-id-4 div.sk-parallel-item:first-child::after {align-self: flex-end;width: 50%;}#sk-container-id-4 div.sk-parallel-item:last-child::after {align-self: flex-start;width: 50%;}#sk-container-id-4 div.sk-parallel-item:only-child::after {width: 0;}#sk-container-id-4 div.sk-dashed-wrapped {border: 1px dashed gray;margin: 0 0.4em 0.5em 0.4em;box-sizing: border-box;padding-bottom: 0.4em;background-color: white;}#sk-container-id-4 div.sk-label label {font-family: monospace;font-weight: bold;display: inline-block;line-height: 1.2em;}#sk-container-id-4 div.sk-label-container {text-align: center;}#sk-container-id-4 div.sk-container {/* jupyter's `normalize.less` sets `[hidden] { display: none; }` but bootstrap.min.css set `[hidden] { display: none !important; }` so we also need the `!important` here to be able to override the default hidden behavior on the sphinx rendered scikit-learn.org. See: https://github.com/scikit-learn/scikit-learn/issues/21755 */display: inline-block !important;position: relative;}#sk-container-id-4 div.sk-text-repr-fallback {display: none;}</style><div id=\"sk-container-id-4\" class=\"sk-top-container\"><div class=\"sk-text-repr-fallback\"><pre>MultinomialNB()</pre><b>In a Jupyter environment, please rerun this cell to show the HTML representation or trust the notebook. <br />On GitHub, the HTML representation is unable to render, please try loading this page with nbviewer.org.</b></div><div class=\"sk-container\" hidden><div class=\"sk-item\"><div class=\"sk-estimator sk-toggleable\"><input class=\"sk-toggleable__control sk-hidden--visually\" id=\"sk-estimator-id-4\" type=\"checkbox\" checked><label for=\"sk-estimator-id-4\" class=\"sk-toggleable__label sk-toggleable__label-arrow\">MultinomialNB</label><div class=\"sk-toggleable__content\"><pre>MultinomialNB()</pre></div></div></div></div></div>"
      ],
      "text/plain": [
       "MultinomialNB()"
      ]
     },
     "execution_count": 65,
     "metadata": {},
     "output_type": "execute_result"
    }
   ],
   "source": [
    "from sklearn.naive_bayes import MultinomialNB\n",
    "from sklearn.metrics import accuracy_score, classification_report, confusion_matrix\n",
    "\n",
    "# Initialize the classifier\n",
    "nb_classifier = MultinomialNB()\n",
    "\n",
    "# Train the model\n",
    "nb_classifier.fit(X_train, y_train)"
   ]
  },
  {
   "cell_type": "markdown",
   "id": "b1ecc37d-8d24-4925-9e68-4829eb767525",
   "metadata": {},
   "source": [
    "### Step 2: Model Prediction"
   ]
  },
  {
   "cell_type": "code",
   "execution_count": 66,
   "id": "4a2ad2a2-b714-4708-bcf9-0f6dec8112a9",
   "metadata": {},
   "outputs": [],
   "source": [
    "# Making predictions on the test set\n",
    "y_pred = nb_classifier.predict(X_test)"
   ]
  },
  {
   "cell_type": "markdown",
   "id": "e46650c6-78d6-48eb-9acb-4bae40032a9c",
   "metadata": {},
   "source": [
    "### Step 3: Evaluating the Model"
   ]
  },
  {
   "cell_type": "code",
   "execution_count": 67,
   "id": "9e710f97-6598-42ba-a95d-c1266eb73dd1",
   "metadata": {},
   "outputs": [
    {
     "name": "stdout",
     "output_type": "stream",
     "text": [
      "Accuracy: 89.57%\n",
      "Classification Report:\n",
      "               precision    recall  f1-score   support\n",
      "\n",
      "           0       1.00      0.89      0.94       109\n",
      "           1       0.33      1.00      0.50         6\n",
      "\n",
      "    accuracy                           0.90       115\n",
      "   macro avg       0.67      0.94      0.72       115\n",
      "weighted avg       0.97      0.90      0.92       115\n",
      "\n",
      "Confusion Matrix:\n",
      " [[97 12]\n",
      " [ 0  6]]\n"
     ]
    }
   ],
   "source": [
    "# Calculate Accuracy\n",
    "accuracy = accuracy_score(y_test, y_pred)\n",
    "print(f\"Accuracy: {accuracy*100:.2f}%\")\n",
    "\n",
    "# Detailed classification report\n",
    "print(\"Classification Report:\\n\", classification_report(y_test, y_pred))\n",
    "\n",
    "# Confusion Matrix\n",
    "conf_matrix = confusion_matrix(y_test, y_pred)\n",
    "print(\"Confusion Matrix:\\n\", conf_matrix)"
   ]
  },
  {
   "cell_type": "code",
   "execution_count": 68,
   "id": "1be046cd-04bb-4119-be0a-caa2e1fd4b20",
   "metadata": {},
   "outputs": [
    {
     "name": "stdout",
     "output_type": "stream",
     "text": [
      "Gaussian Naive Bayes Accuracy: 95.65%\n",
      "Multinomial Naive Bayes Accuracy: 89.57%\n"
     ]
    }
   ],
   "source": [
    "# Initialize the classifiers\n",
    "gaussian_nb = GaussianNB()\n",
    "multinomial_nb = MultinomialNB()\n",
    "\n",
    "# Train the models\n",
    "gaussian_nb.fit(X_train, y_train)\n",
    "multinomial_nb.fit(X_train, y_train)\n",
    "\n",
    "# Make predictions\n",
    "y_pred_gaussian = gaussian_nb.predict(X_test)\n",
    "y_pred_multinomial = multinomial_nb.predict(X_test)\n",
    "\n",
    "# Calculate and print accuracies\n",
    "accuracy_gaussian = accuracy_score(y_test, y_pred_gaussian)\n",
    "accuracy_multinomial = accuracy_score(y_test, y_pred_multinomial)\n",
    "\n",
    "print(f'Gaussian Naive Bayes Accuracy: {accuracy_gaussian*100:.2f}%')\n",
    "print(f'Multinomial Naive Bayes Accuracy: {accuracy_multinomial*100:.2f}%')"
   ]
  },
  {
   "cell_type": "code",
   "execution_count": 69,
   "id": "d1a33d3f-f87f-490f-9393-7297fb4cf64c",
   "metadata": {},
   "outputs": [
    {
     "name": "stdout",
     "output_type": "stream",
     "text": [
      "Bernoulli Naive Bayes Accuracy: 99.13%\n"
     ]
    }
   ],
   "source": [
    "# Assuming X_train and X_test are your training and testing feature sets\n",
    "# Convert your features to a binary format using Binarizer\n",
    "binarizer = Binarizer(threshold=4).fit(X_train) \n",
    "X_train_binary = binarizer.transform(X_train)\n",
    "X_test_binary = binarizer.transform(X_test)\n",
    "\n",
    "# Initialize the Bernoulli Naive Bayes classifier\n",
    "bernoulli_nb = BernoulliNB()\n",
    "\n",
    "# Train the model\n",
    "bernoulli_nb.fit(X_train_binary, y_train)\n",
    "\n",
    "# Predict on the test set\n",
    "y_pred_bernoulli = bernoulli_nb.predict(X_test_binary)\n",
    "\n",
    "# Calculate accuracy\n",
    "accuracy = accuracy_score(y_test, y_pred_bernoulli )\n",
    "\n",
    "print(f'Bernoulli Naive Bayes Accuracy: {accuracy*100:.2f}%')"
   ]
  },
  {
   "cell_type": "code",
   "execution_count": 70,
   "id": "46a889bf-c64a-41ac-a9f1-e141df1ab2c9",
   "metadata": {},
   "outputs": [
    {
     "name": "stdout",
     "output_type": "stream",
     "text": [
      "Gaussian Naive Bayes Accuracy: 95.65%\n"
     ]
    },
    {
     "data": {
      "image/png": "[encoded data removed]",
      "text/plain": [
       "<Figure size 640x480 with 2 Axes>"
      ]
     },
     "metadata": {},
     "output_type": "display_data"
    }
   ],
   "source": [
    "# Assuming y_test is your true labels and y_pred_gaussian is your predictions from Gaussian Naive Bayes\n",
    "accuracy_gaussian = accuracy_score(y_test, y_pred_gaussian)\n",
    "conf_matrix_gaussian = confusion_matrix(y_test, y_pred_gaussian)\n",
    "\n",
    "print(f'Gaussian Naive Bayes Accuracy: {accuracy_gaussian*100:.2f}%')\n",
    "sns.heatmap(conf_matrix_gaussian, annot=True, fmt='d', cmap='Blues')\n",
    "plt.title('Gaussian Naive Bayes Confusion Matrix')\n",
    "plt.show()"
   ]
  },
  {
   "cell_type": "code",
   "execution_count": 71,
   "id": "fb3010cd-c7f1-4f74-9ced-33b64d6d3684",
   "metadata": {},
   "outputs": [
    {
     "name": "stdout",
     "output_type": "stream",
     "text": [
      "Multinomial Naive Bayes Accuracy: 89.57%\n"
     ]
    },
    {
     "data": {
      "image/png": "[encoded data removed]",
      "text/plain": [
       "<Figure size 640x480 with 2 Axes>"
      ]
     },
     "metadata": {},
     "output_type": "display_data"
    }
   ],
   "source": [
    "# Assuming y_pred_multinomial is your predictions from Multinomial Naive Bayes\n",
    "accuracy_multinomial = accuracy_score(y_test, y_pred_multinomial)\n",
    "conf_matrix_multinomial = confusion_matrix(y_test, y_pred_multinomial)\n",
    "\n",
    "print(f'Multinomial Naive Bayes Accuracy: {accuracy_multinomial*100:.2f}%')\n",
    "sns.heatmap(conf_matrix_multinomial, annot=True, fmt='d', cmap='Greens')\n",
    "plt.title('Multinomial Naive Bayes Confusion Matrix')\n",
    "plt.show()"
   ]
  },
  {
   "cell_type": "code",
   "execution_count": 72,
   "id": "ca290042-0d3a-4d7e-bbb2-805ce0ffc733",
   "metadata": {},
   "outputs": [
    {
     "name": "stdout",
     "output_type": "stream",
     "text": [
      "Bernoulli Naive Bayes Accuracy: 99.13%\n"
     ]
    },
    {
     "data": {
      "image/png": "[encoded data removed]",
      "text/plain": [
       "<Figure size 640x480 with 2 Axes>"
      ]
     },
     "metadata": {},
     "output_type": "display_data"
    }
   ],
   "source": [
    "# Assuming y_pred_bernoulli is your predictions from Bernoulli Naive Bayes\n",
    "accuracy_bernoulli = accuracy_score(y_test, y_pred_bernoulli)\n",
    "conf_matrix_bernoulli = confusion_matrix(y_test, y_pred_bernoulli)\n",
    "\n",
    "print(f'Bernoulli Naive Bayes Accuracy: {accuracy_bernoulli*100:.2f}%')\n",
    "sns.heatmap(conf_matrix_bernoulli, annot=True, fmt='d', cmap='Purples')\n",
    "plt.title('Bernoulli Naive Bayes Confusion Matrix')\n",
    "plt.show()\n"
   ]
  },
  {
   "cell_type": "code",
   "execution_count": 73,
   "id": "937581f6-aba2-4245-ba09-2c05c1e669fe",
   "metadata": {},
   "outputs": [
    {
     "name": "stderr",
     "output_type": "stream",
     "text": [
      "/var/folders/9b/l1m8g_9s4tqc30j074jb3r140000gn/T/ipykernel_5473/3905905486.py:14: FutureWarning: \n",
      "\n",
      "Passing `palette` without assigning `hue` is deprecated and will be removed in v0.14.0. Assign the `x` variable to `hue` and set `legend=False` for the same effect.\n",
      "\n",
      "  barplot = sns.barplot(x='Naive Bayes Type', y='Accuracy', data=df_accuracies, palette='viridis')\n"
     ]
    },
    {
     "data": {
      "image/png": "[encoded data removed]",
      "text/plain": [
       "<Figure size 1000x600 with 1 Axes>"
      ]
     },
     "metadata": {},
     "output_type": "display_data"
    }
   ],
   "source": [
    "import pandas as pd\n",
    "import seaborn as sns\n",
    "import matplotlib.pyplot as plt\n",
    "\n",
    "# Creating a DataFrame for the accuracies\n",
    "data = {\n",
    "    'Naive Bayes Type': ['Gaussian', 'Multinomial', 'Bernoulli'],\n",
    "    'Accuracy': [accuracy_gaussian, accuracy_multinomial, accuracy_bernoulli]\n",
    "}\n",
    "df_accuracies = pd.DataFrame(data)\n",
    "\n",
    "# Create the bar plot\n",
    "plt.figure(figsize=(10, 6))\n",
    "barplot = sns.barplot(x='Naive Bayes Type', y='Accuracy', data=df_accuracies, palette='viridis')\n",
    "\n",
    "# Add labels inside the bars\n",
    "for index, row in df_accuracies.iterrows():\n",
    "    # Adjust the position of the text to be inside the bars\n",
    "    barplot.text(index, row.Accuracy - 0.05, f'{row.Accuracy*100:.2f}%', color='white', ha=\"center\", va=\"top\")\n",
    "\n",
    "plt.title('Comparison of Naive Bayes Models Accuracy')\n",
    "plt.ylim(0, 1.1)  # Extend y-axis to make space for text if necessary\n",
    "plt.show()"
   ]
  },
  {
   "cell_type": "code",
   "execution_count": null,
   "id": "4f33c995-3714-4be1-8954-8e5e27677381",
   "metadata": {},
   "outputs": [],
   "source": []
  },
  {
   "cell_type": "code",
   "execution_count": null,
   "id": "e0b68fc0-44d6-48aa-a384-f5f1ab0d8c43",
   "metadata": {},
   "outputs": [],
   "source": []
  },
  {
   "cell_type": "code",
   "execution_count": null,
   "id": "1c940226-166a-45b2-bbe8-d9da6b778f95",
   "metadata": {},
   "outputs": [],
   "source": []
  }
 ],
 "metadata": {
  "kernelspec": {
   "display_name": "Python 3 (ipykernel)",
   "language": "python",
   "name": "python3"
  },
  "language_info": {
   "codemirror_mode": {
    "name": "ipython",
    "version": 3
   },
   "file_extension": ".py",
   "mimetype": "text/x-python",
   "name": "python",
   "nbconvert_exporter": "python",
   "pygments_lexer": "ipython3",
   "version": "3.12.0"
  }
 },
 "nbformat": 4,
 "nbformat_minor": 5
}
